{
 "cells": [
  {
   "cell_type": "code",
   "execution_count": 1,
   "metadata": {},
   "outputs": [],
   "source": [
    "import pandas as pd"
   ]
  },
  {
   "cell_type": "markdown",
   "metadata": {},
   "source": [
    "# Diccionario de datos"
   ]
  },
  {
   "cell_type": "markdown",
   "metadata": {},
   "source": [
    "## Dataset Energy"
   ]
  },
  {
   "cell_type": "code",
   "execution_count": 2,
   "metadata": {},
   "outputs": [],
   "source": [
    "data = pd.read_csv('https://github.com/Wolfgang93/emissionsCO2/blob/main/rawDataset/energyco2.csv?raw=true')"
   ]
  },
  {
   "cell_type": "code",
   "execution_count": 3,
   "metadata": {},
   "outputs": [
    {
     "data": {
      "text/html": [
       "<div>\n",
       "<style scoped>\n",
       "    .dataframe tbody tr th:only-of-type {\n",
       "        vertical-align: middle;\n",
       "    }\n",
       "\n",
       "    .dataframe tbody tr th {\n",
       "        vertical-align: top;\n",
       "    }\n",
       "\n",
       "    .dataframe thead th {\n",
       "        text-align: right;\n",
       "    }\n",
       "</style>\n",
       "<table border=\"1\" class=\"dataframe\">\n",
       "  <thead>\n",
       "    <tr style=\"text-align: right;\">\n",
       "      <th></th>\n",
       "      <th>Unnamed: 0</th>\n",
       "      <th>Country</th>\n",
       "      <th>Energy_type</th>\n",
       "      <th>Year</th>\n",
       "      <th>Energy_consumption</th>\n",
       "      <th>Energy_production</th>\n",
       "      <th>GDP</th>\n",
       "      <th>Population</th>\n",
       "      <th>Energy_intensity_per_capita</th>\n",
       "      <th>Energy_intensity_by_GDP</th>\n",
       "      <th>CO2_emission</th>\n",
       "    </tr>\n",
       "  </thead>\n",
       "  <tbody>\n",
       "    <tr>\n",
       "      <th>0</th>\n",
       "      <td>0</td>\n",
       "      <td>World</td>\n",
       "      <td>all_energy_types</td>\n",
       "      <td>1980</td>\n",
       "      <td>292.899790</td>\n",
       "      <td>296.337228</td>\n",
       "      <td>27770.910281</td>\n",
       "      <td>4.298127e+06</td>\n",
       "      <td>68.145921</td>\n",
       "      <td>10.547</td>\n",
       "      <td>4946.627130</td>\n",
       "    </tr>\n",
       "    <tr>\n",
       "      <th>1</th>\n",
       "      <td>1</td>\n",
       "      <td>World</td>\n",
       "      <td>coal</td>\n",
       "      <td>1980</td>\n",
       "      <td>78.656134</td>\n",
       "      <td>80.114194</td>\n",
       "      <td>27770.910281</td>\n",
       "      <td>4.298127e+06</td>\n",
       "      <td>68.145921</td>\n",
       "      <td>10.547</td>\n",
       "      <td>1409.790188</td>\n",
       "    </tr>\n",
       "    <tr>\n",
       "      <th>2</th>\n",
       "      <td>2</td>\n",
       "      <td>World</td>\n",
       "      <td>natural_gas</td>\n",
       "      <td>1980</td>\n",
       "      <td>53.865223</td>\n",
       "      <td>54.761046</td>\n",
       "      <td>27770.910281</td>\n",
       "      <td>4.298127e+06</td>\n",
       "      <td>68.145921</td>\n",
       "      <td>10.547</td>\n",
       "      <td>1081.593377</td>\n",
       "    </tr>\n",
       "    <tr>\n",
       "      <th>3</th>\n",
       "      <td>3</td>\n",
       "      <td>World</td>\n",
       "      <td>petroleum_n_other_liquids</td>\n",
       "      <td>1980</td>\n",
       "      <td>132.064019</td>\n",
       "      <td>133.111109</td>\n",
       "      <td>27770.910281</td>\n",
       "      <td>4.298127e+06</td>\n",
       "      <td>68.145921</td>\n",
       "      <td>10.547</td>\n",
       "      <td>2455.243565</td>\n",
       "    </tr>\n",
       "    <tr>\n",
       "      <th>4</th>\n",
       "      <td>4</td>\n",
       "      <td>World</td>\n",
       "      <td>nuclear</td>\n",
       "      <td>1980</td>\n",
       "      <td>7.575700</td>\n",
       "      <td>7.575700</td>\n",
       "      <td>27770.910281</td>\n",
       "      <td>4.298127e+06</td>\n",
       "      <td>68.145921</td>\n",
       "      <td>10.547</td>\n",
       "      <td>0.000000</td>\n",
       "    </tr>\n",
       "  </tbody>\n",
       "</table>\n",
       "</div>"
      ],
      "text/plain": [
       "   Unnamed: 0 Country                Energy_type  Year  Energy_consumption  \\\n",
       "0           0   World           all_energy_types  1980          292.899790   \n",
       "1           1   World                       coal  1980           78.656134   \n",
       "2           2   World                natural_gas  1980           53.865223   \n",
       "3           3   World  petroleum_n_other_liquids  1980          132.064019   \n",
       "4           4   World                    nuclear  1980            7.575700   \n",
       "\n",
       "   Energy_production           GDP    Population  Energy_intensity_per_capita  \\\n",
       "0         296.337228  27770.910281  4.298127e+06                    68.145921   \n",
       "1          80.114194  27770.910281  4.298127e+06                    68.145921   \n",
       "2          54.761046  27770.910281  4.298127e+06                    68.145921   \n",
       "3         133.111109  27770.910281  4.298127e+06                    68.145921   \n",
       "4           7.575700  27770.910281  4.298127e+06                    68.145921   \n",
       "\n",
       "   Energy_intensity_by_GDP  CO2_emission  \n",
       "0                   10.547   4946.627130  \n",
       "1                   10.547   1409.790188  \n",
       "2                   10.547   1081.593377  \n",
       "3                   10.547   2455.243565  \n",
       "4                   10.547      0.000000  "
      ]
     },
     "execution_count": 3,
     "metadata": {},
     "output_type": "execute_result"
    }
   ],
   "source": [
    "data.head()"
   ]
  },
  {
   "cell_type": "code",
   "execution_count": 4,
   "metadata": {},
   "outputs": [],
   "source": [
    "data.drop('Unnamed: 0', axis = 1, inplace = True)"
   ]
  },
  {
   "cell_type": "code",
   "execution_count": 5,
   "metadata": {},
   "outputs": [
    {
     "name": "stdout",
     "output_type": "stream",
     "text": [
      "<class 'pandas.core.frame.DataFrame'>\n",
      "RangeIndex: 55440 entries, 0 to 55439\n",
      "Data columns (total 10 columns):\n",
      " #   Column                       Non-Null Count  Dtype  \n",
      "---  ------                       --------------  -----  \n",
      " 0   Country                      55440 non-null  object \n",
      " 1   Energy_type                  55440 non-null  object \n",
      " 2   Year                         55440 non-null  int64  \n",
      " 3   Energy_consumption           44287 non-null  float64\n",
      " 4   Energy_production            44289 non-null  float64\n",
      " 5   GDP                          40026 non-null  float64\n",
      " 6   Population                   46014 non-null  float64\n",
      " 7   Energy_intensity_per_capita  50358 non-null  float64\n",
      " 8   Energy_intensity_by_GDP      50358 non-null  float64\n",
      " 9   CO2_emission                 51614 non-null  float64\n",
      "dtypes: float64(7), int64(1), object(2)\n",
      "memory usage: 4.2+ MB\n"
     ]
    }
   ],
   "source": [
    "data.info()"
   ]
  },
  {
   "cell_type": "code",
   "execution_count": 6,
   "metadata": {},
   "outputs": [],
   "source": [
    "data = data[data['Year'] >= 1980]"
   ]
  },
  {
   "cell_type": "code",
   "execution_count": 7,
   "metadata": {},
   "outputs": [
    {
     "name": "stdout",
     "output_type": "stream",
     "text": [
      "<class 'pandas.core.frame.DataFrame'>\n",
      "Int64Index: 55440 entries, 0 to 55439\n",
      "Data columns (total 10 columns):\n",
      " #   Column                       Non-Null Count  Dtype  \n",
      "---  ------                       --------------  -----  \n",
      " 0   Country                      55440 non-null  object \n",
      " 1   Energy_type                  55440 non-null  object \n",
      " 2   Year                         55440 non-null  int64  \n",
      " 3   Energy_consumption           44287 non-null  float64\n",
      " 4   Energy_production            44289 non-null  float64\n",
      " 5   GDP                          40026 non-null  float64\n",
      " 6   Population                   46014 non-null  float64\n",
      " 7   Energy_intensity_per_capita  50358 non-null  float64\n",
      " 8   Energy_intensity_by_GDP      50358 non-null  float64\n",
      " 9   CO2_emission                 51614 non-null  float64\n",
      "dtypes: float64(7), int64(1), object(2)\n",
      "memory usage: 4.7+ MB\n"
     ]
    }
   ],
   "source": [
    "data.info()"
   ]
  },
  {
   "cell_type": "code",
   "execution_count": 8,
   "metadata": {},
   "outputs": [],
   "source": [
    "columns_dic = ['Country','Energy_type','Year','Energy_consumption','Energy_production','GDP','Population', 'Energy_intensity_per_capita', 'Energy_intensity_by_GDP', 'CO2_emission']"
   ]
  },
  {
   "cell_type": "markdown",
   "metadata": {},
   "source": [
    "### ***Analisis de Country***\n",
    "\n",
    "https://www.un.org/en/about-us/member-states#gotoT"
   ]
  },
  {
   "cell_type": "code",
   "execution_count": 9,
   "metadata": {},
   "outputs": [],
   "source": [
    "countries = pd.read_clipboard()"
   ]
  },
  {
   "cell_type": "markdown",
   "metadata": {},
   "source": [
    "***Consideramos solo miembros ONU*** :\n",
    " - Paises a eliminar: 'Antarctica', 'American Samoa', 'Bermuda', 'Burma', 'British Virgin Islands', 'Cayman Islands', 'Cook Islands', 'Falkland Islands', 'Faroe Islands', 'Guadeloupe', 'Guam', 'Greenland', 'Gibraltar', 'Hawaiian Trade Zone', 'Hong Kong', 'Kosovo', 'Macau', 'Martinique', 'Montserrat', 'Netherlands Antilles', 'New Caledonia', 'Niue', 'Northern Mariana Islands', 'Palestinian Territories', 'Puerto Rico', 'Reunion', 'Saint Helena', 'Saint Pierre and Miquelon', 'Taiwan', 'Turks and Caicos Islands', 'U.S. Pacific Islands', , 'U.S. Territories', 'U.S. Virgin Islands', 'Western Sahara', 'Wake Island', \n",
    "\n",
    " - Paises faltantes: 'Andorra', 'Liechtenstein', 'Marshall Islands', 'Monaco', 'Myanmar', 'Palau', 'San Marino', \n",
    " - Paises posibles a cambiar nombre: 'Brunei' ('Brunei Darussalam'), 'Gambia, The'(Gambia (Republic of The)), 'Moldova' (Republic of Moldova) , \n",
    "\n",
    " - Paises a unir: ['Congo-Brazzaville', 'Congo-Kinshasa'], \n",
    " - Generalidades: 'Former Yugoslavia' (Bosnia y Herzegovina, Croacia, Eslovenia, Macedonia, Montenegro y Serbia) , 'Former Serbia and Montenegro' (Serbia y Montenegro), 'Former Czechoslovakia' (Czech Republic and Slovakia), +Germany ('Germany, East','Germany, West'), 'World', "
   ]
  },
  {
   "cell_type": "code",
   "execution_count": 10,
   "metadata": {},
   "outputs": [
    {
     "data": {
      "text/plain": [
       "array(['Macau', 'Madagascar', 'Malawi', 'Malaysia', 'Maldives', 'Mali',\n",
       "       'Malta', 'Martinique', 'Mauritania', 'Mauritius', 'Mexico',\n",
       "       'Micronesia', 'Moldova', 'Mongolia', 'Montenegro', 'Montserrat',\n",
       "       'Morocco', 'Mozambique'], dtype=object)"
      ]
     },
     "execution_count": 10,
     "metadata": {},
     "output_type": "execute_result"
    }
   ],
   "source": [
    "data.Country[data.Country.str.match(r'(^[Mm].*)')==True].unique()"
   ]
  },
  {
   "cell_type": "markdown",
   "metadata": {},
   "source": [
    "## Dataset Energy_Soure"
   ]
  },
  {
   "cell_type": "code",
   "execution_count": 11,
   "metadata": {},
   "outputs": [],
   "source": [
    "data_2 = pd.read_csv('https://github.com/Wolfgang93/emissionsCO2/blob/main/rawDataset/owid-energy-consumption-source.csv?raw=true')"
   ]
  },
  {
   "cell_type": "code",
   "execution_count": 12,
   "metadata": {},
   "outputs": [
    {
     "data": {
      "text/html": [
       "<div>\n",
       "<style scoped>\n",
       "    .dataframe tbody tr th:only-of-type {\n",
       "        vertical-align: middle;\n",
       "    }\n",
       "\n",
       "    .dataframe tbody tr th {\n",
       "        vertical-align: top;\n",
       "    }\n",
       "\n",
       "    .dataframe thead th {\n",
       "        text-align: right;\n",
       "    }\n",
       "</style>\n",
       "<table border=\"1\" class=\"dataframe\">\n",
       "  <thead>\n",
       "    <tr style=\"text-align: right;\">\n",
       "      <th></th>\n",
       "      <th>country</th>\n",
       "      <th>year</th>\n",
       "      <th>iso_code</th>\n",
       "      <th>population</th>\n",
       "      <th>gdp</th>\n",
       "      <th>biofuel_cons_change_pct</th>\n",
       "      <th>biofuel_cons_change_twh</th>\n",
       "      <th>biofuel_cons_per_capita</th>\n",
       "      <th>biofuel_consumption</th>\n",
       "      <th>biofuel_elec_per_capita</th>\n",
       "      <th>...</th>\n",
       "      <th>solar_share_elec</th>\n",
       "      <th>solar_share_energy</th>\n",
       "      <th>wind_cons_change_pct</th>\n",
       "      <th>wind_cons_change_twh</th>\n",
       "      <th>wind_consumption</th>\n",
       "      <th>wind_elec_per_capita</th>\n",
       "      <th>wind_electricity</th>\n",
       "      <th>wind_energy_per_capita</th>\n",
       "      <th>wind_share_elec</th>\n",
       "      <th>wind_share_energy</th>\n",
       "    </tr>\n",
       "  </thead>\n",
       "  <tbody>\n",
       "    <tr>\n",
       "      <th>0</th>\n",
       "      <td>Afghanistan</td>\n",
       "      <td>1900</td>\n",
       "      <td>AFG</td>\n",
       "      <td>4832414.0</td>\n",
       "      <td>NaN</td>\n",
       "      <td>NaN</td>\n",
       "      <td>NaN</td>\n",
       "      <td>NaN</td>\n",
       "      <td>NaN</td>\n",
       "      <td>NaN</td>\n",
       "      <td>...</td>\n",
       "      <td>NaN</td>\n",
       "      <td>NaN</td>\n",
       "      <td>NaN</td>\n",
       "      <td>NaN</td>\n",
       "      <td>NaN</td>\n",
       "      <td>NaN</td>\n",
       "      <td>NaN</td>\n",
       "      <td>NaN</td>\n",
       "      <td>NaN</td>\n",
       "      <td>NaN</td>\n",
       "    </tr>\n",
       "    <tr>\n",
       "      <th>1</th>\n",
       "      <td>Afghanistan</td>\n",
       "      <td>1901</td>\n",
       "      <td>AFG</td>\n",
       "      <td>4879685.0</td>\n",
       "      <td>NaN</td>\n",
       "      <td>NaN</td>\n",
       "      <td>NaN</td>\n",
       "      <td>NaN</td>\n",
       "      <td>NaN</td>\n",
       "      <td>NaN</td>\n",
       "      <td>...</td>\n",
       "      <td>NaN</td>\n",
       "      <td>NaN</td>\n",
       "      <td>NaN</td>\n",
       "      <td>NaN</td>\n",
       "      <td>NaN</td>\n",
       "      <td>NaN</td>\n",
       "      <td>NaN</td>\n",
       "      <td>NaN</td>\n",
       "      <td>NaN</td>\n",
       "      <td>NaN</td>\n",
       "    </tr>\n",
       "    <tr>\n",
       "      <th>2</th>\n",
       "      <td>Afghanistan</td>\n",
       "      <td>1902</td>\n",
       "      <td>AFG</td>\n",
       "      <td>4935122.0</td>\n",
       "      <td>NaN</td>\n",
       "      <td>NaN</td>\n",
       "      <td>NaN</td>\n",
       "      <td>NaN</td>\n",
       "      <td>NaN</td>\n",
       "      <td>NaN</td>\n",
       "      <td>...</td>\n",
       "      <td>NaN</td>\n",
       "      <td>NaN</td>\n",
       "      <td>NaN</td>\n",
       "      <td>NaN</td>\n",
       "      <td>NaN</td>\n",
       "      <td>NaN</td>\n",
       "      <td>NaN</td>\n",
       "      <td>NaN</td>\n",
       "      <td>NaN</td>\n",
       "      <td>NaN</td>\n",
       "    </tr>\n",
       "    <tr>\n",
       "      <th>3</th>\n",
       "      <td>Afghanistan</td>\n",
       "      <td>1903</td>\n",
       "      <td>AFG</td>\n",
       "      <td>4998861.0</td>\n",
       "      <td>NaN</td>\n",
       "      <td>NaN</td>\n",
       "      <td>NaN</td>\n",
       "      <td>NaN</td>\n",
       "      <td>NaN</td>\n",
       "      <td>NaN</td>\n",
       "      <td>...</td>\n",
       "      <td>NaN</td>\n",
       "      <td>NaN</td>\n",
       "      <td>NaN</td>\n",
       "      <td>NaN</td>\n",
       "      <td>NaN</td>\n",
       "      <td>NaN</td>\n",
       "      <td>NaN</td>\n",
       "      <td>NaN</td>\n",
       "      <td>NaN</td>\n",
       "      <td>NaN</td>\n",
       "    </tr>\n",
       "    <tr>\n",
       "      <th>4</th>\n",
       "      <td>Afghanistan</td>\n",
       "      <td>1904</td>\n",
       "      <td>AFG</td>\n",
       "      <td>5063419.0</td>\n",
       "      <td>NaN</td>\n",
       "      <td>NaN</td>\n",
       "      <td>NaN</td>\n",
       "      <td>NaN</td>\n",
       "      <td>NaN</td>\n",
       "      <td>NaN</td>\n",
       "      <td>...</td>\n",
       "      <td>NaN</td>\n",
       "      <td>NaN</td>\n",
       "      <td>NaN</td>\n",
       "      <td>NaN</td>\n",
       "      <td>NaN</td>\n",
       "      <td>NaN</td>\n",
       "      <td>NaN</td>\n",
       "      <td>NaN</td>\n",
       "      <td>NaN</td>\n",
       "      <td>NaN</td>\n",
       "    </tr>\n",
       "  </tbody>\n",
       "</table>\n",
       "<p>5 rows × 128 columns</p>\n",
       "</div>"
      ],
      "text/plain": [
       "       country  year iso_code  population  gdp  biofuel_cons_change_pct  \\\n",
       "0  Afghanistan  1900      AFG   4832414.0  NaN                      NaN   \n",
       "1  Afghanistan  1901      AFG   4879685.0  NaN                      NaN   \n",
       "2  Afghanistan  1902      AFG   4935122.0  NaN                      NaN   \n",
       "3  Afghanistan  1903      AFG   4998861.0  NaN                      NaN   \n",
       "4  Afghanistan  1904      AFG   5063419.0  NaN                      NaN   \n",
       "\n",
       "   biofuel_cons_change_twh  biofuel_cons_per_capita  biofuel_consumption  \\\n",
       "0                      NaN                      NaN                  NaN   \n",
       "1                      NaN                      NaN                  NaN   \n",
       "2                      NaN                      NaN                  NaN   \n",
       "3                      NaN                      NaN                  NaN   \n",
       "4                      NaN                      NaN                  NaN   \n",
       "\n",
       "   biofuel_elec_per_capita  ...  solar_share_elec  solar_share_energy  \\\n",
       "0                      NaN  ...               NaN                 NaN   \n",
       "1                      NaN  ...               NaN                 NaN   \n",
       "2                      NaN  ...               NaN                 NaN   \n",
       "3                      NaN  ...               NaN                 NaN   \n",
       "4                      NaN  ...               NaN                 NaN   \n",
       "\n",
       "   wind_cons_change_pct  wind_cons_change_twh  wind_consumption  \\\n",
       "0                   NaN                   NaN               NaN   \n",
       "1                   NaN                   NaN               NaN   \n",
       "2                   NaN                   NaN               NaN   \n",
       "3                   NaN                   NaN               NaN   \n",
       "4                   NaN                   NaN               NaN   \n",
       "\n",
       "   wind_elec_per_capita  wind_electricity  wind_energy_per_capita  \\\n",
       "0                   NaN               NaN                     NaN   \n",
       "1                   NaN               NaN                     NaN   \n",
       "2                   NaN               NaN                     NaN   \n",
       "3                   NaN               NaN                     NaN   \n",
       "4                   NaN               NaN                     NaN   \n",
       "\n",
       "   wind_share_elec  wind_share_energy  \n",
       "0              NaN                NaN  \n",
       "1              NaN                NaN  \n",
       "2              NaN                NaN  \n",
       "3              NaN                NaN  \n",
       "4              NaN                NaN  \n",
       "\n",
       "[5 rows x 128 columns]"
      ]
     },
     "execution_count": 12,
     "metadata": {},
     "output_type": "execute_result"
    }
   ],
   "source": [
    "data_2.head()"
   ]
  },
  {
   "cell_type": "code",
   "execution_count": 13,
   "metadata": {},
   "outputs": [
    {
     "data": {
      "text/plain": [
       "314"
      ]
     },
     "execution_count": 13,
     "metadata": {},
     "output_type": "execute_result"
    }
   ],
   "source": [
    "data_2.country.unique().size"
   ]
  },
  {
   "cell_type": "markdown",
   "metadata": {},
   "source": [
    "***Consideramos solo miembros ONU*** :\n",
    " - Paises a eliminar: 'Antarctica', 'American Samoa', 'British Virgin Islands', 'Cayman Islands', 'Chad', 'Cook Islands', 'Faeroe Islands', 'Falkland Islands', 'French Guiana', 'French Polynesia', 'G20 (Ember)', 'G7 (Ember)',  'Gibraltar', 'Greenland', 'Guadeloupe', 'Guam', 'Hong Kong', 'Kosovo', 'Macao', 'Martinique', 'Moldova', 'Montserrat', 'New Caledonia', 'Niue', 'Northern Mariana Islands', 'Puerto Rico', 'Palestine', 'Reunion', 'Saint Helena',  'Saint Pierre and Miquelon', 'Taiwan',  'Tanzania', 'Turks and Caicos Islands', 'Yugoslavia', 'Western Sahara'\n",
    "\n",
    "\n",
    " - Paises faltantes: 'Andorra',  'Belize', 'chad', 'Comoros', 'Liechtenstein', 'Marshall Islands', 'Monaco', 'Myanmar', 'Palau', 'San Marino', \n",
    "\n",
    " - Paises posibles a cambiar nombre: 'Brunei' ('Brunei Darussalam'), 'Cape verde' (Cabo Verde), 'Guinea-Bissau' (Guinea Bissau), 'Timor' (Timor-Leste), 'Laos' (Lao People’s Democratic Republic), 'North Korea', \n",
    "\n",
    " - Paises a unir: \n",
    "\n",
    " - Generalidades: 'Africa', 'Africa (BP)', 'Africa (Shift)', 'Asia',\n",
    "       'Asia & Oceania (EIA)', 'Asia Pacific (BP)',\n",
    "       'Asia and Oceania (Shift)', 'Australia and New Zealand (EIA)', 'CIS (BP)', 'Central & South America (EIA)',\n",
    "       'Central African Republic', 'Central America (BP)',\n",
    "       'Central and South America (Shift)', 'Czechoslovakia', 'EU28 (Shift)', 'East Germany (EIA)', 'Eastern Africa (BP)', 'Eurasia (EIA)',\n",
    "       'Eurasia (Shift)', 'Europe', 'Europe (BP)', 'Europe (Shift)',\n",
    "       'European Union (27)', 'European Union (EIA)', 'Hawaiian Trade Zone (EIA)', 'High-income countries', 'IEO - Africa (EIA)', 'IEO - Middle East (EIA)',\n",
    "       'IEO OECD - Europe (EIA)', 'Inde (Shift)', 'Latin America and Caribbean (Ember)', 'Low-income countries',\n",
    "       'Lower-middle-income countries', 'Mexico, Chile, and other OECD Americas (EIA)',  'Middle Africa (BP)', 'Middle East (BP)',\n",
    "       'Middle East (EIA)', 'Middle East (Ember)', 'Middle East (Shift)', 'Netherlands Antilles', 'Non-OECD (BP)', 'Non-OECD (EIA)', 'Non-OPEC (EIA)',\n",
    "       'North America', 'North America (BP)', 'North America (Shift)' , 'OECD (BP)', 'OECD (EIA)', 'OECD (Ember)', 'OECD (Shift)',\n",
    "       'OECD - Asia And Oceania (EIA)', 'OECD - Europe (EIA)',\n",
    "       'OECD - North America (EIA)', 'OPEC (EIA)', 'OPEC (Shift)',\n",
    "       'OPEC - Africa (EIA)', 'OPEC - South America (EIA)', 'Oceania', 'Other Africa (BP)', 'Other Asia Pacific (BP)',\n",
    "       'Other CIS (BP)', 'Other Caribbean (BP)',\n",
    "       'Other Eastern Africa (BP)', 'Other Europe (BP)',\n",
    "       'Other Middle Africa (BP)', 'Other Middle East (BP)',\n",
    "       'Other Non-OECD - America (EIA)', 'Other Non-OECD - Asia (EIA)',\n",
    "       'Other Non-OECD - Europe and Eurasia (EIA)',\n",
    "       'Other Northern Africa (BP)', 'Other South America (BP)',\n",
    "       'Other South and Central America (BP)',\n",
    "       'Other Southern Africa (BP)', 'Other Western Africa (BP)', 'Persian Gulf (EIA)', 'Persian Gulf (Shift)', 'Serbia and Montenegro', 'South America', 'South Korea and other OECD Asia (EIA)', 'South and Central America (BP)', 'Total Non-OPEC (BP)', 'Total OPEC (BP)', 'U.S. Pacific Islands (EIA)', 'U.S. Pacific Islands (Shift)',\n",
    "       'U.S. Territories (EIA)', 'U.S. Territories (Shift)', 'USSR', 'United States Virgin Islands',\n",
    "       'Upper-middle-income countries', 'Wake Island (EIA)', 'Wake Island (Shift)', 'West Germany (EIA)',\n",
    "       'Western Africa (BP)', 'World'"
   ]
  },
  {
   "cell_type": "code",
   "execution_count": 14,
   "metadata": {},
   "outputs": [
    {
     "data": {
      "text/plain": [
       "array(['Zambia', 'Zimbabwe'], dtype=object)"
      ]
     },
     "execution_count": 14,
     "metadata": {},
     "output_type": "execute_result"
    }
   ],
   "source": [
    "data_2.country[data_2.country.str.match(r'(^[Zz].*)')==True].unique()\n"
   ]
  },
  {
   "cell_type": "markdown",
   "metadata": {},
   "source": [
    "## Dataset Industries"
   ]
  },
  {
   "cell_type": "code",
   "execution_count": 15,
   "metadata": {},
   "outputs": [
    {
     "name": "stderr",
     "output_type": "stream",
     "text": [
      "C:\\Users\\Ale\\AppData\\Local\\Temp\\ipykernel_14132\\3942448436.py:1: DtypeWarning: Columns (10) have mixed types. Specify dtype option on import or set low_memory=False.\n",
      "  data_3 = pd.read_csv('https://github.com/Wolfgang93/emissionsCO2/blob/main/rawDataset/global_power_plant_database.csv?raw=true')\n"
     ]
    }
   ],
   "source": [
    "data_3 = pd.read_csv('https://github.com/Wolfgang93/emissionsCO2/blob/main/rawDataset/global_power_plant_database.csv?raw=true')"
   ]
  },
  {
   "cell_type": "code",
   "execution_count": 16,
   "metadata": {},
   "outputs": [
    {
     "data": {
      "text/html": [
       "<div>\n",
       "<style scoped>\n",
       "    .dataframe tbody tr th:only-of-type {\n",
       "        vertical-align: middle;\n",
       "    }\n",
       "\n",
       "    .dataframe tbody tr th {\n",
       "        vertical-align: top;\n",
       "    }\n",
       "\n",
       "    .dataframe thead th {\n",
       "        text-align: right;\n",
       "    }\n",
       "</style>\n",
       "<table border=\"1\" class=\"dataframe\">\n",
       "  <thead>\n",
       "    <tr style=\"text-align: right;\">\n",
       "      <th></th>\n",
       "      <th>country</th>\n",
       "      <th>country_long</th>\n",
       "      <th>name</th>\n",
       "      <th>gppd_idnr</th>\n",
       "      <th>capacity_mw</th>\n",
       "      <th>latitude</th>\n",
       "      <th>longitude</th>\n",
       "      <th>primary_fuel</th>\n",
       "      <th>other_fuel1</th>\n",
       "      <th>other_fuel2</th>\n",
       "      <th>...</th>\n",
       "      <th>estimated_generation_gwh_2013</th>\n",
       "      <th>estimated_generation_gwh_2014</th>\n",
       "      <th>estimated_generation_gwh_2015</th>\n",
       "      <th>estimated_generation_gwh_2016</th>\n",
       "      <th>estimated_generation_gwh_2017</th>\n",
       "      <th>estimated_generation_note_2013</th>\n",
       "      <th>estimated_generation_note_2014</th>\n",
       "      <th>estimated_generation_note_2015</th>\n",
       "      <th>estimated_generation_note_2016</th>\n",
       "      <th>estimated_generation_note_2017</th>\n",
       "    </tr>\n",
       "  </thead>\n",
       "  <tbody>\n",
       "    <tr>\n",
       "      <th>0</th>\n",
       "      <td>AFG</td>\n",
       "      <td>Afghanistan</td>\n",
       "      <td>Kajaki Hydroelectric Power Plant Afghanistan</td>\n",
       "      <td>GEODB0040538</td>\n",
       "      <td>33.0</td>\n",
       "      <td>32.322</td>\n",
       "      <td>65.1190</td>\n",
       "      <td>Hydro</td>\n",
       "      <td>NaN</td>\n",
       "      <td>NaN</td>\n",
       "      <td>...</td>\n",
       "      <td>123.77</td>\n",
       "      <td>162.90</td>\n",
       "      <td>97.39</td>\n",
       "      <td>137.76</td>\n",
       "      <td>119.50</td>\n",
       "      <td>HYDRO-V1</td>\n",
       "      <td>HYDRO-V1</td>\n",
       "      <td>HYDRO-V1</td>\n",
       "      <td>HYDRO-V1</td>\n",
       "      <td>HYDRO-V1</td>\n",
       "    </tr>\n",
       "    <tr>\n",
       "      <th>1</th>\n",
       "      <td>AFG</td>\n",
       "      <td>Afghanistan</td>\n",
       "      <td>Kandahar DOG</td>\n",
       "      <td>WKS0070144</td>\n",
       "      <td>10.0</td>\n",
       "      <td>31.670</td>\n",
       "      <td>65.7950</td>\n",
       "      <td>Solar</td>\n",
       "      <td>NaN</td>\n",
       "      <td>NaN</td>\n",
       "      <td>...</td>\n",
       "      <td>18.43</td>\n",
       "      <td>17.48</td>\n",
       "      <td>18.25</td>\n",
       "      <td>17.70</td>\n",
       "      <td>18.29</td>\n",
       "      <td>SOLAR-V1-NO-AGE</td>\n",
       "      <td>SOLAR-V1-NO-AGE</td>\n",
       "      <td>SOLAR-V1-NO-AGE</td>\n",
       "      <td>SOLAR-V1-NO-AGE</td>\n",
       "      <td>SOLAR-V1-NO-AGE</td>\n",
       "    </tr>\n",
       "    <tr>\n",
       "      <th>2</th>\n",
       "      <td>AFG</td>\n",
       "      <td>Afghanistan</td>\n",
       "      <td>Kandahar JOL</td>\n",
       "      <td>WKS0071196</td>\n",
       "      <td>10.0</td>\n",
       "      <td>31.623</td>\n",
       "      <td>65.7920</td>\n",
       "      <td>Solar</td>\n",
       "      <td>NaN</td>\n",
       "      <td>NaN</td>\n",
       "      <td>...</td>\n",
       "      <td>18.64</td>\n",
       "      <td>17.58</td>\n",
       "      <td>19.10</td>\n",
       "      <td>17.62</td>\n",
       "      <td>18.72</td>\n",
       "      <td>SOLAR-V1-NO-AGE</td>\n",
       "      <td>SOLAR-V1-NO-AGE</td>\n",
       "      <td>SOLAR-V1-NO-AGE</td>\n",
       "      <td>SOLAR-V1-NO-AGE</td>\n",
       "      <td>SOLAR-V1-NO-AGE</td>\n",
       "    </tr>\n",
       "    <tr>\n",
       "      <th>3</th>\n",
       "      <td>AFG</td>\n",
       "      <td>Afghanistan</td>\n",
       "      <td>Mahipar Hydroelectric Power Plant Afghanistan</td>\n",
       "      <td>GEODB0040541</td>\n",
       "      <td>66.0</td>\n",
       "      <td>34.556</td>\n",
       "      <td>69.4787</td>\n",
       "      <td>Hydro</td>\n",
       "      <td>NaN</td>\n",
       "      <td>NaN</td>\n",
       "      <td>...</td>\n",
       "      <td>225.06</td>\n",
       "      <td>203.55</td>\n",
       "      <td>146.90</td>\n",
       "      <td>230.18</td>\n",
       "      <td>174.91</td>\n",
       "      <td>HYDRO-V1</td>\n",
       "      <td>HYDRO-V1</td>\n",
       "      <td>HYDRO-V1</td>\n",
       "      <td>HYDRO-V1</td>\n",
       "      <td>HYDRO-V1</td>\n",
       "    </tr>\n",
       "    <tr>\n",
       "      <th>4</th>\n",
       "      <td>AFG</td>\n",
       "      <td>Afghanistan</td>\n",
       "      <td>Naghlu Dam Hydroelectric Power Plant Afghanistan</td>\n",
       "      <td>GEODB0040534</td>\n",
       "      <td>100.0</td>\n",
       "      <td>34.641</td>\n",
       "      <td>69.7170</td>\n",
       "      <td>Hydro</td>\n",
       "      <td>NaN</td>\n",
       "      <td>NaN</td>\n",
       "      <td>...</td>\n",
       "      <td>406.16</td>\n",
       "      <td>357.22</td>\n",
       "      <td>270.99</td>\n",
       "      <td>395.38</td>\n",
       "      <td>350.80</td>\n",
       "      <td>HYDRO-V1</td>\n",
       "      <td>HYDRO-V1</td>\n",
       "      <td>HYDRO-V1</td>\n",
       "      <td>HYDRO-V1</td>\n",
       "      <td>HYDRO-V1</td>\n",
       "    </tr>\n",
       "  </tbody>\n",
       "</table>\n",
       "<p>5 rows × 36 columns</p>\n",
       "</div>"
      ],
      "text/plain": [
       "  country country_long                                              name  \\\n",
       "0     AFG  Afghanistan      Kajaki Hydroelectric Power Plant Afghanistan   \n",
       "1     AFG  Afghanistan                                      Kandahar DOG   \n",
       "2     AFG  Afghanistan                                      Kandahar JOL   \n",
       "3     AFG  Afghanistan     Mahipar Hydroelectric Power Plant Afghanistan   \n",
       "4     AFG  Afghanistan  Naghlu Dam Hydroelectric Power Plant Afghanistan   \n",
       "\n",
       "      gppd_idnr  capacity_mw  latitude  longitude primary_fuel other_fuel1  \\\n",
       "0  GEODB0040538         33.0    32.322    65.1190        Hydro         NaN   \n",
       "1    WKS0070144         10.0    31.670    65.7950        Solar         NaN   \n",
       "2    WKS0071196         10.0    31.623    65.7920        Solar         NaN   \n",
       "3  GEODB0040541         66.0    34.556    69.4787        Hydro         NaN   \n",
       "4  GEODB0040534        100.0    34.641    69.7170        Hydro         NaN   \n",
       "\n",
       "  other_fuel2  ... estimated_generation_gwh_2013  \\\n",
       "0         NaN  ...                        123.77   \n",
       "1         NaN  ...                         18.43   \n",
       "2         NaN  ...                         18.64   \n",
       "3         NaN  ...                        225.06   \n",
       "4         NaN  ...                        406.16   \n",
       "\n",
       "   estimated_generation_gwh_2014 estimated_generation_gwh_2015  \\\n",
       "0                         162.90                         97.39   \n",
       "1                          17.48                         18.25   \n",
       "2                          17.58                         19.10   \n",
       "3                         203.55                        146.90   \n",
       "4                         357.22                        270.99   \n",
       "\n",
       "  estimated_generation_gwh_2016 estimated_generation_gwh_2017  \\\n",
       "0                        137.76                        119.50   \n",
       "1                         17.70                         18.29   \n",
       "2                         17.62                         18.72   \n",
       "3                        230.18                        174.91   \n",
       "4                        395.38                        350.80   \n",
       "\n",
       "  estimated_generation_note_2013 estimated_generation_note_2014  \\\n",
       "0                       HYDRO-V1                       HYDRO-V1   \n",
       "1                SOLAR-V1-NO-AGE                SOLAR-V1-NO-AGE   \n",
       "2                SOLAR-V1-NO-AGE                SOLAR-V1-NO-AGE   \n",
       "3                       HYDRO-V1                       HYDRO-V1   \n",
       "4                       HYDRO-V1                       HYDRO-V1   \n",
       "\n",
       "   estimated_generation_note_2015  estimated_generation_note_2016  \\\n",
       "0                        HYDRO-V1                        HYDRO-V1   \n",
       "1                 SOLAR-V1-NO-AGE                 SOLAR-V1-NO-AGE   \n",
       "2                 SOLAR-V1-NO-AGE                 SOLAR-V1-NO-AGE   \n",
       "3                        HYDRO-V1                        HYDRO-V1   \n",
       "4                        HYDRO-V1                        HYDRO-V1   \n",
       "\n",
       "   estimated_generation_note_2017  \n",
       "0                        HYDRO-V1  \n",
       "1                 SOLAR-V1-NO-AGE  \n",
       "2                 SOLAR-V1-NO-AGE  \n",
       "3                        HYDRO-V1  \n",
       "4                        HYDRO-V1  \n",
       "\n",
       "[5 rows x 36 columns]"
      ]
     },
     "execution_count": 16,
     "metadata": {},
     "output_type": "execute_result"
    }
   ],
   "source": [
    "data_3.head()"
   ]
  },
  {
   "cell_type": "markdown",
   "metadata": {},
   "source": [
    "***Consideramos solo miembros ONU*** :\n",
    " - Paises a eliminar: 'Antarctica', 'American Samoa', 'French Guiana', 'Kosovo', 'Moldova', 'Palestine', 'Taiwan',  'Tanzania', 'Western Sahara'\n",
    "\n",
    " - Paises faltantes: 'Andorra',  'Belize', 'chad', 'Comoros', 'Liechtenstein', 'Marshall Islands', 'Monaco', 'Myanmar', 'Palau', 'San Marino', \n",
    "\n",
    " - Paises posibles a cambiar nombre: 'Brunei' ('Brunei Darussalam'), 'Cape verde' (Cabo Verde), 'Laos' (Lao People’s Democratic Republic), 'North Korea', 'Swaziland' (Eswatini), 'Macedonia' (North Macedonia)\n",
    "\n",
    " - Paises a unir: \n",
    "\n",
    " - Generalidades: "
   ]
  },
  {
   "cell_type": "code",
   "execution_count": 17,
   "metadata": {},
   "outputs": [
    {
     "data": {
      "text/plain": [
       "array(['Taiwan', 'Tajikistan', 'Tanzania', 'Thailand', 'Togo',\n",
       "       'Trinidad and Tobago', 'Tunisia', 'Turkey', 'Turkmenistan'],\n",
       "      dtype=object)"
      ]
     },
     "execution_count": 17,
     "metadata": {},
     "output_type": "execute_result"
    }
   ],
   "source": [
    "data_3.country_long[data_3.country_long.str.match(r'(^[Tt].*)')==True].unique()"
   ]
  },
  {
   "cell_type": "code",
   "execution_count": 18,
   "metadata": {},
   "outputs": [
    {
     "data": {
      "text/plain": [
       "167"
      ]
     },
     "execution_count": 18,
     "metadata": {},
     "output_type": "execute_result"
    }
   ],
   "source": [
    "data_3.country_long.unique().size"
   ]
  }
 ],
 "metadata": {
  "kernelspec": {
   "display_name": "Python 3.10.5 64-bit",
   "language": "python",
   "name": "python3"
  },
  "language_info": {
   "codemirror_mode": {
    "name": "ipython",
    "version": 3
   },
   "file_extension": ".py",
   "mimetype": "text/x-python",
   "name": "python",
   "nbconvert_exporter": "python",
   "pygments_lexer": "ipython3",
   "version": "3.10.5"
  },
  "orig_nbformat": 4,
  "vscode": {
   "interpreter": {
    "hash": "6f52065960efd9c01b2ec1d60a5c4d050f69b3d5f630ae721b9f05d65d21db56"
   }
  }
 },
 "nbformat": 4,
 "nbformat_minor": 2
}
