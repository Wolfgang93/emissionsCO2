{
 "cells": [
  {
   "cell_type": "code",
   "execution_count": 123,
   "metadata": {},
   "outputs": [],
   "source": [
    "class BlackJack:\n",
    "    def __init__(self):\n",
    "        self.deck = []\n",
    "        self.mano = []\n",
    "        self.oponente = []\n",
    "        self.miSuma=sum(self.mano)\n",
    "        self.oponenteSuma=sum(self.oponente)\n",
    "        \n",
    "    def crearDeck(self):\n",
    "        self.deck = list(range(1,11))*4 # 11,12,13 = 10  \n",
    "        self.deck.extend([10,10,10]*4)\n",
    "        \n",
    "    def manoInicial(self,primeraCarta=int,segundaCarta=int):\n",
    "        self.primeraCarta = primeraCarta\n",
    "        self.segundaCarta = segundaCarta\n",
    "        self.deck.remove(primeraCarta)\n",
    "        self.mano.append(primeraCarta)\n",
    "        self.deck.remove(segundaCarta)\n",
    "        self.mano.append(segundaCarta)\n",
    "\n",
    "        return self.deck,sum(self.mano)\n",
    "    \n",
    "    def cartasOponente(self,primeraOponente=int):\n",
    "        self.primraOponente = primeraOponente\n",
    "  \n",
    "        self.oponente.append(primeraOponente)\n",
    "        self.deck.remove(primeraOponente)\n",
    "\n",
    "        for elements in self.oponente:         \n",
    "            if elements==1:\n",
    "                if self.oponenteSuma <= 10: \n",
    "                    self.oponente.append(11)\n",
    "                    self.oponente.remove(1) \n",
    "        return self.deck\n",
    "        \n",
    "    def unaMas(self,nuevaCarta=int):\n",
    "        self.nuevaCarta = nuevaCarta\n",
    "        self.deck.remove(self.nuevaCarta)\n",
    "        self.mano.append(self.nuevaCarta)\n",
    "        \n",
    "        for elements in self.mano:         \n",
    "            if elements==1:\n",
    "                if sum(self.mano) <= 11:\n",
    "                    self.mano.append(11)\n",
    "                    self.mano.remove(1)\n",
    "            if elements==11:\n",
    "                if sum(self.mano) > 21:\n",
    "                    self.mano.append(1)\n",
    "                    self.mano.remove(11)\n",
    "                \n",
    "        return self.mano,sum(self.mano)\n",
    "        \n",
    "    def unaMasOponente(self,nuevaOponente=int):\n",
    "        self.nuevaOponente = nuevaOponente\n",
    "        self.deck.remove(nuevaOponente)\n",
    "        self.oponente.append(nuevaOponente)\n",
    "        \n",
    "        for elements in self.oponente:         \n",
    "            if elements==1:\n",
    "                if sum(self.oponente) <= 11:\n",
    "                    self.oponente.append(11)\n",
    "                    self.oponente.remove(1)\n",
    "            if elements==11:\n",
    "                if sum(self.oponente) > 21:\n",
    "                    self.oponente.append(1)\n",
    "                    self.oponente.remove(11)\n",
    "                    \n",
    "         \n",
    "        \n",
    "    def probabilidad(self):\n",
    "        from numpy import random\n",
    "        self.deck\n",
    "        self.lista = []\n",
    "        #self.listaOponente = []\n",
    "        #deckcopy = []\n",
    "        for elements in self.deck:\n",
    "            if elements + sum(self.mano) <= 21:\n",
    "                self.lista.append(elements)\n",
    "        self.calProbabilidad = round(len(self.lista)/(len(self.deck)-1),4)               #len(self.lista) = cantidad de cartas que puedo sacar sin explotar\n",
    "        \n",
    "        #self.opProb = (len(self.listaOponente)/len(self.deck))                                                                    #len(self.listaOponente) = cantidad de cartas que el oponente puede sacar sin explotar\n",
    "                                                                            #len(self.deck) = cantidad de cartas que quedan en el deck\n",
    "\n",
    "                \n",
    "        #for elements in self.deck:\n",
    "            #if elements + sum(self.oponente) <= 21:\n",
    "                #deckcopy.append(elements)\n",
    "                #random.shuffle(deckcopy)\n",
    "                \n",
    "        #while sum(self.listaOponente)+sum(self.oponente) <= 17:\n",
    "            #for elements in deckcopy:\n",
    "                #if elements + sum(self.oponente) <= 21:\n",
    "                   # self.listaOponente.append(random.choice(deckcopy))\n",
    "                    \n",
    "                    \n",
    "        #for elements in self.deck:\n",
    "            #if elements + sum(self.oponente) <= 21:\n",
    "                #self.listaOponente.append(elements)\n",
    "                \n",
    "        return self.calProbabilidad\n",
    "\n",
    "    def primeraMano(self,primeraCarta=int,segundaCarta=int,primeraOponente=int,):\n",
    "        self.primeraCarta = primeraCarta\n",
    "        self.segundaCarta = segundaCarta\n",
    "        self.primeraOponente = primeraOponente\n",
    "        \n",
    "        self.crearDeck()\n",
    "        self.manoInicial(self.primeraCarta,self.segundaCarta)\n",
    "       \n",
    "        for elements in self.mano:         \n",
    "            if elements==1:\n",
    "                if sum(self.mano) <= 11:\n",
    "                    self.mano.append(11)\n",
    "                    self.mano.remove(1)\n",
    "                              \n",
    "        self.cartasOponente(self.primeraOponente)\n",
    "        for elements in self.oponente:         \n",
    "            if elements==1:\n",
    "                if sum(self.oponente) <= 11:\n",
    "                    self.oponente.append(11)\n",
    "                    self.oponente.remove(1)\n",
    "                                \n",
    "        return self.mano,sum(self.mano)\n",
    "    \n",
    "    def probabilidadActual(self):\n",
    "        self.probabilidad()\n",
    "        #self.calProbabilidad = round(len(self.lista)/len(self.deck),4)\n",
    "        \n",
    "        return print('suma actual: ',sum(self.mano), \"\\n\" 'Probabilidad de no perder(21+) sacando 1 más: ',self.calProbabilidad),print('Cartas que puedo sacar: ', self.lista)"
   ]
  },
  {
   "cell_type": "code",
   "execution_count": 124,
   "metadata": {},
   "outputs": [],
   "source": [
    "a = BlackJack()\n",
    "mano1 = a.primeraMano(10,5,8)"
   ]
  },
  {
   "cell_type": "code",
   "execution_count": 6,
   "metadata": {},
   "outputs": [],
   "source": [
    "mano2 = a.unaMas(7)"
   ]
  },
  {
   "cell_type": "code",
   "execution_count": 85,
   "metadata": {},
   "outputs": [],
   "source": [
    "oponente2 = a.unaMasOponente(7)"
   ]
  },
  {
   "cell_type": "code",
   "execution_count": 126,
   "metadata": {},
   "outputs": [
    {
     "name": "stdout",
     "output_type": "stream",
     "text": [
      "suma actual:  15 \n",
      "Probabilidad de no perder(21+) sacando 1 más:  0.4792\n",
      "Cartas que puedo sacar:  [1, 2, 3, 4, 6, 1, 2, 3, 4, 5, 6, 1, 2, 3, 4, 5, 6, 1, 2, 3, 4, 5, 6]\n"
     ]
    },
    {
     "data": {
      "text/plain": [
       "(None, None)"
      ]
     },
     "execution_count": 126,
     "metadata": {},
     "output_type": "execute_result"
    }
   ],
   "source": [
    "probabilidadMenor21 = a.probabilidadActual()\n",
    "probabilidadMenor21"
   ]
  }
 ],
 "metadata": {
  "interpreter": {
   "hash": "26de051ba29f2982a8de78e945f0abaf191376122a1563185a90213a26c5da77"
  },
  "kernelspec": {
   "display_name": "Python 3.10.4 64-bit",
   "language": "python",
   "name": "python3"
  },
  "language_info": {
   "codemirror_mode": {
    "name": "ipython",
    "version": 3
   },
   "file_extension": ".py",
   "mimetype": "text/x-python",
   "name": "python",
   "nbconvert_exporter": "python",
   "pygments_lexer": "ipython3",
   "version": "3.10.4"
  },
  "orig_nbformat": 4
 },
 "nbformat": 4,
 "nbformat_minor": 2
}
